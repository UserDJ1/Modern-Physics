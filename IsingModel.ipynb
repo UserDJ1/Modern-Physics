{
 "cells": [
  {
   "cell_type": "code",
   "execution_count": 1,
   "metadata": {},
   "outputs": [],
   "source": [
    "import math\n",
    "import numpy as np\n",
    "from PIL import Image\n",
    "from io import BytesIO\n",
    "import IPython.display\n",
    "from ipywidgets import interact\n",
    "import matplotlib.pyplot as plt"
   ]
  },
  {
   "cell_type": "code",
   "execution_count": 2,
   "metadata": {},
   "outputs": [],
   "source": [
    "def random_2d_array(x, y):\n",
    "    \"\"\"\n",
    "    Returns a two-dimensional array of values either -1 or 1, selected at random.\n",
    "    \n",
    "    INPUTS:\n",
    "    x: The horizontal size dimension.\n",
    "    y: The vertical size dimension.\n",
    "    \n",
    "    RETURNS:\n",
    "    A 2D numpy array of values either -1 or 1, selected at random.\n",
    "    \"\"\"\n",
    "    return np.random.choice([-1, 1], size = (x,y))\n",
    "\n",
    "#random_2d_array(10,10) #This tests the function for a 10x10 array."
   ]
  },
  {
   "cell_type": "code",
   "execution_count": 3,
   "metadata": {},
   "outputs": [],
   "source": [
    "def display_2d_array(a, fmt='png'):\n",
    "    \"\"\"\n",
    "    Displays a two-dimensional array of ones and negative ones as an image of black and white squares.\n",
    "    \n",
    "    INPUTS:\n",
    "    a  : The array to be displayed.\n",
    "    fmt: The format for the image to be output.\n",
    "    \n",
    "    RETURNS:\n",
    "    None. Displays an image representing a 2D array of ones and negative ones.\n",
    "    \"\"\"\n",
    "    a = np.uint8(a)\n",
    "    f = BytesIO()\n",
    "    Image.fromarray(a).save(f, fmt)\n",
    "    IPython.display.display(IPython.display.Image(data=f.getvalue()))\n",
    "    \n",
    "#display_2d_array(random_2d_array(600,600))"
   ]
  },
  {
   "cell_type": "code",
   "execution_count": 4,
   "metadata": {},
   "outputs": [],
   "source": [
    "def update_ising(field, i, g, β):\n",
    "    \"\"\"\n",
    "    Determines the new state of a value in a two-dimensional array of ones and negative ones based on the surrounding values.\n",
    "    \n",
    "    INPUTS:\n",
    "    field: The 2D array to be evaluated.\n",
    "    i    : The first dimensional index of the 2D array value to be evaluated.\n",
    "    g    : The second dimensional index of the 2D array value to be evaluated.\n",
    "    β    : The inverse of the \"temperature\" of the object.\n",
    "    \n",
    "    RETURNS:\n",
    "    None. Updates a 2D array of ones and negative ones.\n",
    "    \"\"\"\n",
    "    total = 0\n",
    "    a, b = field.shape\n",
    "    for k in range(i-1, i+2):\n",
    "        for j in range(g-1, g+2):\n",
    "            if (k == i) and (j == g):\n",
    "                continue\n",
    "            total += field[k % a, j % b]\n",
    "    dE = 2*field[i, g] * total\n",
    "    if (dE <= 0):\n",
    "        field[i, g] *= -1 #Flip value\n",
    "    elif (np.exp(-dE*β) > np.random.rand()):\n",
    "        field[i, g] *= -1 #Flip value\n",
    "    \n",
    "\n",
    "def step_ising(field, temp):\n",
    "    \"\"\"\n",
    "    Calculates an entire new two-dimensional array of ones and negative ones based on a previous array. Uses the function\n",
    "    \"update_ising\"\n",
    "    \n",
    "    INPUTS:\n",
    "    field: The 2D array to be evaluated.\n",
    "    temp : The temperature of the object.\n",
    "    \n",
    "    RETURNS:\n",
    "    field: The evaluated 2D array.\n",
    "    mag  : The magnetization (sum of all values) of the evaluated 2D array.\n",
    "    \"\"\"\n",
    "    \n",
    "    β = 1.0/temp\n",
    "\n",
    "    a, b = field.shape\n",
    "    \n",
    "    for i_offset in range(2):\n",
    "        for g_offset in range(2):\n",
    "            for i in range(i_offset, a, 2):\n",
    "                for g in range(g_offset, b, 2):\n",
    "                    update_ising(field, i, g, β)\n",
    "    \n",
    "    mag = np.sum(field)\n",
    "    return field, mag\n",
    "\n",
    "#display_2d_array(step_ising(random_2d_array(200, 200)))"
   ]
  },
  {
   "cell_type": "code",
   "execution_count": 5,
   "metadata": {},
   "outputs": [],
   "source": [
    "def display_sequence(imgs):\n",
    "    \"\"\"\n",
    "    Displays a set of frames of 2D array images.\n",
    "    \n",
    "    INPUTS:\n",
    "    imgs: A set of 2D arrays to be displayed as images.\n",
    "    \n",
    "    RETURNS:\n",
    "    None. Displays an interactive set of images.\n",
    "    \"\"\"\n",
    "    def show(frame=(0, len(imgs) - 1)):\n",
    "        \"\"\"\n",
    "        Returns an image of a 2D array to be added to a set of images.\n",
    "        \n",
    "        INPUTS:\n",
    "        frame: The index of \"imgs\" to be rendered.\n",
    "        \n",
    "        RETURNS:\n",
    "        An image represneting a 2D array.\n",
    "        \"\"\"\n",
    "        return display_2d_array(imgs[frame])\n",
    "    return interact(show)\n",
    "\n",
    "\n",
    "\n",
    "#The following code tests one iteration of the Ising Model over 50 steps with a lattice of size 200x200 with a temperature\n",
    "#input of 2.5.\n",
    "#temp = 2.5\n",
    "#imgs = [random_2d_array(200, 200)]\n",
    "#for i in range(50):\n",
    "#    newfield, mag = step_ising(imgs[-1].copy(), temp)\n",
    "#    imgs.append(newfield)\n",
    "#display_sequence(imgs)"
   ]
  },
  {
   "cell_type": "code",
   "execution_count": 6,
   "metadata": {},
   "outputs": [],
   "source": [
    "def calc_mags(x, y, T0, Tf, ΔT, num):\n",
    "    \"\"\"\n",
    "    Calculates the magnetizations (sum of the absolute value of all values) of a 2D array updated a specified number of\n",
    "    times for a list of specified temperatures.\n",
    "    \n",
    "    INPUTS:\n",
    "    x  : The x-dimension of the 2D array.\n",
    "    y  : The y-dimension of the 2D array.\n",
    "    T0 : The initial tested temperature.\n",
    "    Tf : The final tested temperature.\n",
    "    ΔT : The increment of the temperature each iteration.\n",
    "    num: The number of steps to make each iteration.\n",
    "    \n",
    "    RETURNS:\n",
    "    mag: The set of magnetizations of each array.\n",
    "    \"\"\"\n",
    "\n",
    "    field = random_2d_array(x,y)\n",
    "\n",
    "    temps = np.arange(T0, Tf+ΔT, ΔT)\n",
    "\n",
    "    mag = []\n",
    "\n",
    "    for i in range(temps.size):\n",
    "        newfield = field\n",
    "        for g in range(num):\n",
    "            newfield, newmag = step_ising(newfield, temps[i])\n",
    "        mag.append(abs(newmag))\n",
    "        \n",
    "    return mag\n",
    "    \n",
    "    \n",
    "def plot_mag_aves(x, y, T0, Tf, ΔT, num, N):\n",
    "    \"\"\"\n",
    "    Plots the average magnetization of a specified number of Ising models over multiple values of temperature.\n",
    "    \n",
    "    INPUTS:\n",
    "    x  : The x-dimension of the array.\n",
    "    y  : The y-dimension of the array.\n",
    "    T0 : The initial temperature tested.\n",
    "    Tf : The final temperature tested.\n",
    "    ΔT : The increment of temperature between each iteration.\n",
    "    num: The number of steps to make on each iteration.\n",
    "    N  : The number of tests to add to the average.\n",
    "    \n",
    "    RETURNS:\n",
    "    None. Plots average magnetization vs temperature.\n",
    "    \"\"\"\n",
    "    \n",
    "    temps = np.arange(T0, Tf+ΔT, ΔT)\n",
    "    \n",
    "    mags = []\n",
    "    newmags = []\n",
    "    \n",
    "    for i in range(N):\n",
    "        newmags.append(calc_mags(x, y, T0, Tf, ΔT, num))\n",
    "        \n",
    "    avemag = 0\n",
    "    for i in range(temps.size):\n",
    "        for g in range(N):\n",
    "            avemag = avemag + newmags[g][i]\n",
    "        mags.append(avemag/N)\n",
    "        avemag = 0\n",
    "        \n",
    "    fig, axe = plt.subplots()\n",
    "    axe.scatter(temps, mags)\n",
    "    axe.set_title(\"<|M|> vs T\")"
   ]
  },
  {
   "cell_type": "code",
   "execution_count": 7,
   "metadata": {},
   "outputs": [
    {
     "data": {
      "image/png": "[encoded data removed]",
      "text/plain": [
       "<Figure size 432x288 with 1 Axes>"
      ]
     },
     "metadata": {
      "needs_background": "light"
     },
     "output_type": "display_data"
    }
   ],
   "source": [
    "plot_mag_aves(180, 180, 0.5, 8.5, 0.5, 40, 20)"
   ]
  },
  {
   "cell_type": "code",
   "execution_count": 9,
   "metadata": {},
   "outputs": [
    {
     "data": {
      "image/png": "[encoded data removed]",
      "text/plain": [
       "<Figure size 432x288 with 1 Axes>"
      ]
     },
     "metadata": {
      "needs_background": "light"
     },
     "output_type": "display_data"
    }
   ],
   "source": [
    "plot_mag_aves(200, 200, 1.5, 8.5, 0.1, 40, 1)"
   ]
  },
  {
   "cell_type": "markdown",
   "metadata": {},
   "source": [
    "My approach to solving this problem was to create a 2D array that updates each value dependent on its surrounding values in an incremental pattern such that there is no top-left to bottom-right correlation. Then, as a result of the temperature value, a strong relationship with temperature should appear resulting in a high magnetization level that quickly drops off to zero as temperature increases. This, combined with material properties, would likely result in a good approximation of how magnetization occurs in different materials."
   ]
  },
  {
   "cell_type": "code",
   "execution_count": null,
   "metadata": {},
   "outputs": [],
   "source": []
  }
 ],
 "metadata": {
  "kernelspec": {
   "display_name": "Python 3",
   "language": "python",
   "name": "python3"
  },
  "language_info": {
   "codemirror_mode": {
    "name": "ipython",
    "version": 3
   },
   "file_extension": ".py",
   "mimetype": "text/x-python",
   "name": "python",
   "nbconvert_exporter": "python",
   "pygments_lexer": "ipython3",
   "version": "3.7.6"
  }
 },
 "nbformat": 4,
 "nbformat_minor": 4
}
